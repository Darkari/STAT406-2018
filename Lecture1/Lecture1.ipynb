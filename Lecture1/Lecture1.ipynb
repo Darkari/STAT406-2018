{
 "cells": [
  {
   "cell_type": "markdown",
   "metadata": {},
   "source": [
    "#### LICENSE\n",
    "These notes are released under the \n",
    "\"Creative Commons Attribution-ShareAlike 4.0 International\" license. \n",
    "See the **human-readable version** [here](https://creativecommons.org/licenses/by-sa/4.0/)\n",
    "and the **real thing** [here](https://creativecommons.org/licenses/by-sa/4.0/legalcode). \n",
    "\n",
    "## Lecture slides \n",
    "\n",
    "The lecture slides are [here](STAT406-17-lecture-1.pdf). \n",
    "\n",
    "## Predictions using a linear model\n",
    "\n",
    "In this document we will explore (rather superficially)\n",
    "some difficulties found when trying to estimate the forecasting \n",
    "properties (e.g. the mean squared prediction \n",
    "error) of a (linear) predictor. We will\n",
    "use the air-pollution data set, which\n",
    "has been split into a training\n",
    "set and a test set. \n",
    "\n",
    "If you are interested in how these sets were \n",
    "constructed, I ran the following script (you\n",
    "do not need to do this, as I am providing both\n",
    "of them to you, but you can if you want to):"
   ]
  },
  {
   "cell_type": "code",
   "execution_count": 2,
   "metadata": {},
   "outputs": [],
   "source": [
    "x <- read.csv('rutgers-lib-30861_CSV-1.csv')\n",
    "set.seed(123)\n",
    "ii <- sample(rep(1:4, each=15))\n",
    "# this is the training set `pollution-train.dat`\n",
    "x.tr <- x[ii != 2, ]\n",
    "# this is the test set `pollution-test.dat`\n",
    "x.te <- x[ii == 2, ]\n",
    "# then I saved them to disk:\n",
    "# write.csv(x.tr, file='pollution-train.dat', row.names=FALSE, quote=FALSE)\n",
    "# write.csv(x.te, file='pollution-test.dat', row.names=FALSE, quote=FALSE)\n"
   ]
  },
  {
   "cell_type": "markdown",
   "metadata": {},
   "source": [
    "We now read the **training** data set from the file `pollution-train.dat`,\n",
    "which is \n",
    "available [here](pollution-train.dat), and check \n",
    "that it was read properly:"
   ]
  },
  {
   "cell_type": "code",
   "execution_count": 3,
   "metadata": {},
   "outputs": [
    {
     "data": {
      "text/html": [
       "<table>\n",
       "<thead><tr><th scope=col>PREC</th><th scope=col>JANT</th><th scope=col>JULT</th><th scope=col>OVR65</th><th scope=col>POPN</th><th scope=col>EDUC</th><th scope=col>HOUS</th><th scope=col>DENS</th><th scope=col>NONW</th><th scope=col>WWDRK</th><th scope=col>POOR</th><th scope=col>HC</th><th scope=col>NOX</th><th scope=col>SO.</th><th scope=col>HUMID</th><th scope=col>MORT</th></tr></thead>\n",
       "<tbody>\n",
       "\t<tr><td>35      </td><td>23      </td><td>72      </td><td>11.1    </td><td>3.14    </td><td>11.0    </td><td>78.8    </td><td>4281    </td><td> 3.5    </td><td>50.7    </td><td>14.4    </td><td> 8      </td><td>10      </td><td> 39     </td><td>57      </td><td> 997.875</td></tr>\n",
       "\t<tr><td>47      </td><td>45      </td><td>79      </td><td> 6.5    </td><td>3.41    </td><td>11.1    </td><td>77.5    </td><td>3125    </td><td>27.1    </td><td>50.2    </td><td>20.6    </td><td>18      </td><td> 8      </td><td> 24     </td><td>56      </td><td> 982.291</td></tr>\n",
       "\t<tr><td>43      </td><td>35      </td><td>77      </td><td> 7.6    </td><td>3.44    </td><td> 9.6    </td><td>84.6    </td><td>6441    </td><td>24.4    </td><td>43.7    </td><td>14.3    </td><td>43      </td><td>38      </td><td>206     </td><td>55      </td><td>1071.289</td></tr>\n",
       "\t<tr><td>53      </td><td>45      </td><td>80      </td><td> 7.7    </td><td>3.45    </td><td>10.2    </td><td>66.8    </td><td>3325    </td><td>38.5    </td><td>43.1    </td><td>25.5    </td><td>30      </td><td>32      </td><td> 72     </td><td>54      </td><td>1030.380</td></tr>\n",
       "\t<tr><td>45      </td><td>30      </td><td>73      </td><td> 9.3    </td><td>3.29    </td><td>10.6    </td><td>86.0    </td><td>2140    </td><td> 5.3    </td><td>40.4    </td><td>10.5    </td><td> 6      </td><td> 4      </td><td>  4     </td><td>56      </td><td> 899.529</td></tr>\n",
       "\t<tr><td>36      </td><td>24      </td><td>70      </td><td> 9.0    </td><td>3.31    </td><td>10.5    </td><td>83.2    </td><td>6582    </td><td> 8.1    </td><td>42.5    </td><td>12.6    </td><td>18      </td><td>12      </td><td> 37     </td><td>61      </td><td>1001.902</td></tr>\n",
       "</tbody>\n",
       "</table>\n"
      ],
      "text/latex": [
       "\\begin{tabular}{r|llllllllllllllll}\n",
       " PREC & JANT & JULT & OVR65 & POPN & EDUC & HOUS & DENS & NONW & WWDRK & POOR & HC & NOX & SO. & HUMID & MORT\\\\\n",
       "\\hline\n",
       "\t 35       & 23       & 72       & 11.1     & 3.14     & 11.0     & 78.8     & 4281     &  3.5     & 50.7     & 14.4     &  8       & 10       &  39      & 57       &  997.875\\\\\n",
       "\t 47       & 45       & 79       &  6.5     & 3.41     & 11.1     & 77.5     & 3125     & 27.1     & 50.2     & 20.6     & 18       &  8       &  24      & 56       &  982.291\\\\\n",
       "\t 43       & 35       & 77       &  7.6     & 3.44     &  9.6     & 84.6     & 6441     & 24.4     & 43.7     & 14.3     & 43       & 38       & 206      & 55       & 1071.289\\\\\n",
       "\t 53       & 45       & 80       &  7.7     & 3.45     & 10.2     & 66.8     & 3325     & 38.5     & 43.1     & 25.5     & 30       & 32       &  72      & 54       & 1030.380\\\\\n",
       "\t 45       & 30       & 73       &  9.3     & 3.29     & 10.6     & 86.0     & 2140     &  5.3     & 40.4     & 10.5     &  6       &  4       &   4      & 56       &  899.529\\\\\n",
       "\t 36       & 24       & 70       &  9.0     & 3.31     & 10.5     & 83.2     & 6582     &  8.1     & 42.5     & 12.6     & 18       & 12       &  37      & 61       & 1001.902\\\\\n",
       "\\end{tabular}\n"
      ],
      "text/markdown": [
       "\n",
       "PREC | JANT | JULT | OVR65 | POPN | EDUC | HOUS | DENS | NONW | WWDRK | POOR | HC | NOX | SO. | HUMID | MORT | \n",
       "|---|---|---|---|---|---|\n",
       "| 35       | 23       | 72       | 11.1     | 3.14     | 11.0     | 78.8     | 4281     |  3.5     | 50.7     | 14.4     |  8       | 10       |  39      | 57       |  997.875 | \n",
       "| 47       | 45       | 79       |  6.5     | 3.41     | 11.1     | 77.5     | 3125     | 27.1     | 50.2     | 20.6     | 18       |  8       |  24      | 56       |  982.291 | \n",
       "| 43       | 35       | 77       |  7.6     | 3.44     |  9.6     | 84.6     | 6441     | 24.4     | 43.7     | 14.3     | 43       | 38       | 206      | 55       | 1071.289 | \n",
       "| 53       | 45       | 80       |  7.7     | 3.45     | 10.2     | 66.8     | 3325     | 38.5     | 43.1     | 25.5     | 30       | 32       |  72      | 54       | 1030.380 | \n",
       "| 45       | 30       | 73       |  9.3     | 3.29     | 10.6     | 86.0     | 2140     |  5.3     | 40.4     | 10.5     |  6       |  4       |   4      | 56       |  899.529 | \n",
       "| 36       | 24       | 70       |  9.0     | 3.31     | 10.5     | 83.2     | 6582     |  8.1     | 42.5     | 12.6     | 18       | 12       |  37      | 61       | 1001.902 | \n",
       "\n",
       "\n"
      ],
      "text/plain": [
       "  PREC JANT JULT OVR65 POPN EDUC HOUS DENS NONW WWDRK POOR HC NOX SO. HUMID\n",
       "1 35   23   72   11.1  3.14 11.0 78.8 4281  3.5 50.7  14.4  8 10   39 57   \n",
       "2 47   45   79    6.5  3.41 11.1 77.5 3125 27.1 50.2  20.6 18  8   24 56   \n",
       "3 43   35   77    7.6  3.44  9.6 84.6 6441 24.4 43.7  14.3 43 38  206 55   \n",
       "4 53   45   80    7.7  3.45 10.2 66.8 3325 38.5 43.1  25.5 30 32   72 54   \n",
       "5 45   30   73    9.3  3.29 10.6 86.0 2140  5.3 40.4  10.5  6  4    4 56   \n",
       "6 36   24   70    9.0  3.31 10.5 83.2 6582  8.1 42.5  12.6 18 12   37 61   \n",
       "  MORT    \n",
       "1  997.875\n",
       "2  982.291\n",
       "3 1071.289\n",
       "4 1030.380\n",
       "5  899.529\n",
       "6 1001.902"
      ]
     },
     "metadata": {},
     "output_type": "display_data"
    }
   ],
   "source": [
    "x.tr <- read.table('pollution-train.dat', header=TRUE, sep=',')\n",
    "# sanity check\n",
    "head(x.tr)"
   ]
  },
  {
   "cell_type": "markdown",
   "metadata": {},
   "source": [
    "The response variable is `MORT`. \n",
    "Our first step is to fit a \n",
    "linear regression model with all available\n",
    "predictors and look at a few diagnostic plots\n",
    "where everything looks fine:"
   ]
  },
  {
   "cell_type": "code",
   "execution_count": 4,
   "metadata": {},
   "outputs": [
    {
     "data": {
      "image/png": "[encoded data removed]",
      "text/plain": [
       "Plot with title \"\""
      ]
     },
     "metadata": {},
     "output_type": "display_data"
    },
    {
     "data": {
      "image/png": "[encoded data removed]",
      "text/plain": [
       "Plot with title \"\""
      ]
     },
     "metadata": {},
     "output_type": "display_data"
    }
   ],
   "source": [
    "full <- lm(MORT ~ . , data=x.tr)\n",
    "plot(full, which=1)\n",
    "plot(full, which=2)"
   ]
  },
  {
   "cell_type": "markdown",
   "metadata": {},
   "source": [
    "We also take a look at the estimated coeficients: "
   ]
  },
  {
   "cell_type": "code",
   "execution_count": 5,
   "metadata": {},
   "outputs": [
    {
     "data": {
      "text/plain": [
       "\n",
       "Call:\n",
       "lm(formula = MORT ~ ., data = x.tr)\n",
       "\n",
       "Residuals:\n",
       "    Min      1Q  Median      3Q     Max \n",
       "-61.147 -15.644  -2.018  11.162  56.094 \n",
       "\n",
       "Coefficients:\n",
       "              Estimate Std. Error t value Pr(>|t|)    \n",
       "(Intercept)  2.243e+03  4.665e+02   4.809 4.31e-05 ***\n",
       "PREC         1.952e+00  9.417e-01   2.073 0.047168 *  \n",
       "JANT        -1.366e+00  1.171e+00  -1.166 0.253036    \n",
       "JULT        -3.696e+00  2.014e+00  -1.835 0.076856 .  \n",
       "OVR65       -2.054e+01  9.144e+00  -2.247 0.032451 *  \n",
       "POPN        -1.030e+02  7.315e+01  -1.409 0.169574    \n",
       "EDUC        -5.627e+01  1.402e+01  -4.014 0.000386 ***\n",
       "HOUS        -2.086e+00  1.830e+00  -1.140 0.263643    \n",
       "DENS         1.297e-02  4.931e-03   2.630 0.013537 *  \n",
       "NONW         2.212e+00  1.570e+00   1.409 0.169494    \n",
       "WWDRK        3.473e+00  1.752e+00   1.982 0.056983 .  \n",
       "POOR        -2.248e+00  3.288e+00  -0.684 0.499547    \n",
       "HC          -1.379e+00  6.268e-01  -2.200 0.035949 *  \n",
       "NOX          3.014e+00  1.321e+00   2.281 0.030064 *  \n",
       "SO.         -3.021e-01  1.879e-01  -1.608 0.118673    \n",
       "HUMID        8.630e-01  1.203e+00   0.717 0.478859    \n",
       "---\n",
       "Signif. codes:  0 '***' 0.001 '**' 0.01 '*' 0.05 '.' 0.1 ' ' 1\n",
       "\n",
       "Residual standard error: 29.88 on 29 degrees of freedom\n",
       "Multiple R-squared:  0.8603,\tAdjusted R-squared:  0.788 \n",
       "F-statistic:  11.9 on 15 and 29 DF,  p-value: 1.328e-08\n"
      ]
     },
     "metadata": {},
     "output_type": "display_data"
    }
   ],
   "source": [
    "summary(full)"
   ]
  }
 ],
 "metadata": {
  "kernelspec": {
   "display_name": "R",
   "language": "R",
   "name": "ir"
  },
  "language_info": {
   "codemirror_mode": "r",
   "file_extension": ".r",
   "mimetype": "text/x-r-source",
   "name": "R",
   "pygments_lexer": "r",
   "version": "3.5.0"
  }
 },
 "nbformat": 4,
 "nbformat_minor": 2
}
